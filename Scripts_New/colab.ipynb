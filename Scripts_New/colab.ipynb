{
 "metadata": {
  "language_info": {
   "codemirror_mode": {
    "name": "ipython",
    "version": 3
   },
   "file_extension": ".py",
   "mimetype": "text/x-python",
   "name": "python",
   "nbconvert_exporter": "python",
   "pygments_lexer": "ipython3",
   "version": "3.8.5-final"
  },
  "orig_nbformat": 2,
  "kernelspec": {
   "name": "python38564bitgameconda4a394f12aa884584895b97c20834c101",
   "display_name": "Python 3.8.5 64-bit ('game': conda)"
  }
 },
 "nbformat": 4,
 "nbformat_minor": 2,
 "cells": [
  {
   "cell_type": "code",
   "execution_count": 3,
   "metadata": {},
   "outputs": [
    {
     "output_type": "stream",
     "name": "stdout",
     "text": [
      "create dataloader..\n",
      "create dataloader..\n",
      "create dataloader..\n",
      "create dataloader..\n",
      "Build model...\n",
      "\n",
      "--------------------------------------------------\n",
      "Iteration 0\n",
      "Iteration step: 0\n",
      "Training loss: tensor(0.)\n",
      "Validation loss: tensor(0.)\n",
      "Test loss: tensor(0.)\n",
      "Performance improved...\n",
      "\n",
      "--------------------------------------------------\n",
      "Iteration 1\n",
      "Iteration step: 0\n",
      "Training loss: tensor(0.)\n",
      "Validation loss: tensor(0.)\n",
      "Test loss: tensor(0.)\n",
      "Performance improved...\n"
     ]
    }
   ],
   "source": [
    "'''\n",
    "from google.colab import drive\n",
    "drive.mount('/content/gdrive')\n",
    "%cd gdrive/My Drive/mario\n",
    "! git clone https://github.com/ashantanu/Mario-Level-Generator.git\n",
    "!cd Mario-Level-Generator\n",
    "!git pull\n",
    "'''"
   ]
  },
  {
   "cell_type": "code",
   "execution_count": null,
   "metadata": {},
   "outputs": [],
   "source": [
    "!python main.py --num_epochs=1  --batch_size=128"
   ]
  },
  {
   "cell_type": "code",
   "execution_count": null,
   "metadata": {},
   "outputs": [],
   "source": []
  }
 ]
}
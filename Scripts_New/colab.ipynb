{
 "metadata": {
  "language_info": {
   "codemirror_mode": {
    "name": "ipython",
    "version": 3
   },
   "file_extension": ".py",
   "mimetype": "text/x-python",
   "name": "python",
   "nbconvert_exporter": "python",
   "pygments_lexer": "ipython3",
   "version": "3.8.5-final"
  },
  "orig_nbformat": 2,
  "kernelspec": {
   "name": "python38564bitgameconda4a394f12aa884584895b97c20834c101",
   "display_name": "Python 3.8.5 64-bit ('game': conda)"
  }
 },
 "nbformat": 4,
 "nbformat_minor": 2,
 "cells": [
  {
   "cell_type": "code",
   "execution_count": 3,
   "metadata": {},
   "outputs": [
    {
     "output_type": "stream",
     "name": "stdout",
     "text": [
      "create dataloader..\n",
      "create dataloader..\n",
      "create dataloader..\n",
      "create dataloader..\n",
      "Build model...\n",
      "\n",
      "--------------------------------------------------\n",
      "Iteration 0\n",
      "Iteration step: 0\n",
      "Training loss: tensor(0.)\n",
      "Validation loss: tensor(0.)\n",
      "Test loss: tensor(0.)\n",
      "Performance improved...\n",
      "\n",
      "--------------------------------------------------\n",
      "Iteration 1\n",
      "Iteration step: 0\n",
      "Training loss: tensor(0.)\n",
      "Validation loss: tensor(0.)\n",
      "Test loss: tensor(0.)\n",
      "Performance improved...\n"
     ]
    }
   ],
   "source": [
    "'''\n",
    "#https://medium.com/@ashwindesilva/how-to-use-google-colaboratory-to-clone-a-github-repository-e07cf8d3d22b\n",
    "from google.colab import drive\n",
    "drive.mount('/content/gdrive')\n",
    "%cd gdrive/My Drive/mario\n",
    "! git clone https://github.com/ashantanu/Mario-Level-Generator.git\n",
    "!cd Mario-Level-Generator\n",
    "!git pull\n",
    "'''"
   ]
  },
  {
   "cell_type": "code",
   "execution_count": null,
   "metadata": {},
   "outputs": [],
   "source": [
    "!pip install torch==1.6.0 torchvision==0.7.0\n",
    "!pip install transformers==3.1.0\n",
    "!pip install tokenizers==0.8.1rc2\n",
    "!pip install tensorboard==2.3.0"
   ]
  },
  {
   "cell_type": "code",
   "execution_count": null,
   "metadata": {},
   "outputs": [],
   "source": [
    "!python main.py --num_epochs=1  --batch_size=128"
   ]
  },
  {
   "cell_type": "code",
   "execution_count": null,
   "metadata": {},
   "outputs": [],
   "source": []
  }
 ]
}